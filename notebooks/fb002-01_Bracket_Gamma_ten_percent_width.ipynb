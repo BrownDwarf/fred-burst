{
 "cells": [
  {
   "cell_type": "markdown",
   "metadata": {},
   "source": [
    "# Fred Burst, Task 2\n",
    "## Science\n",
    "### Part 1- Special lines\n",
    "\n",
    "Michael Gully-Santiago  \n",
    "Wednesday, December 2, 2015  \n",
    "\n",
    "\n",
    "Let's look for scientifically interesting emission lines."
   ]
  },
  {
   "cell_type": "code",
   "execution_count": 1,
   "metadata": {
    "collapsed": false
   },
   "outputs": [],
   "source": [
    "import warnings\n",
    "warnings.filterwarnings(\"ignore\")\n",
    "import numpy as np\n",
    "from astropy.io import fits\n",
    "import matplotlib.pyplot as plt"
   ]
  },
  {
   "cell_type": "code",
   "execution_count": 2,
   "metadata": {
    "collapsed": true
   },
   "outputs": [],
   "source": [
    "% matplotlib inline\n",
    "% config InlineBackend.figure_format = 'retina'\n",
    "import seaborn as sns\n",
    "sns.set_context('notebook')"
   ]
  },
  {
   "cell_type": "markdown",
   "metadata": {},
   "source": [
    "## Read in all the data.\n",
    "No spot-checking necessary, since we already did that in the previous notebook."
   ]
  },
  {
   "cell_type": "markdown",
   "metadata": {},
   "source": [
    "### IGRINS data of ASASSN15qi"
   ]
  },
  {
   "cell_type": "code",
   "execution_count": 3,
   "metadata": {
    "collapsed": true
   },
   "outputs": [],
   "source": [
    "import h5py"
   ]
  },
  {
   "cell_type": "code",
   "execution_count": 4,
   "metadata": {
    "collapsed": false
   },
   "outputs": [],
   "source": [
    "f = h5py.File(\"../data/reduced/ASASSN15qi_IGRINS_K.hdf5\", \"r\")\n",
    "K = {key:np.array(f[key]) for key in f.keys()}\n",
    "f.close()\n",
    "\n",
    "f = h5py.File(\"../data/reduced/ASASSN15qi_IGRINS_H.hdf5\", \"r\")\n",
    "H = {key:np.array(f[key]) for key in f.keys()}\n",
    "f.close()"
   ]
  },
  {
   "cell_type": "code",
   "execution_count": 5,
   "metadata": {
    "collapsed": false
   },
   "outputs": [
    {
     "data": {
      "text/plain": [
       "(25, 2048)"
      ]
     },
     "execution_count": 5,
     "metadata": {},
     "output_type": "execute_result"
    }
   ],
   "source": [
    "K['wls'].shape"
   ]
  },
  {
   "cell_type": "markdown",
   "metadata": {},
   "source": [
    "### Telluric absorption"
   ]
  },
  {
   "cell_type": "code",
   "execution_count": 6,
   "metadata": {
    "collapsed": true
   },
   "outputs": [],
   "source": [
    "import pandas as pd"
   ]
  },
  {
   "cell_type": "code",
   "execution_count": 7,
   "metadata": {
    "collapsed": true
   },
   "outputs": [],
   "source": [
    "tell = pd.read_csv('~/GitHub/plp/master_calib/TelluricModel.dat', sep=' ', names = ['wls', 'trans'])"
   ]
  },
  {
   "cell_type": "code",
   "execution_count": 8,
   "metadata": {
    "collapsed": false
   },
   "outputs": [
    {
     "data": {
      "text/html": [
       "<div>\n",
       "<table border=\"1\" class=\"dataframe\">\n",
       "  <thead>\n",
       "    <tr style=\"text-align: right;\">\n",
       "      <th></th>\n",
       "      <th>wls</th>\n",
       "      <th>trans</th>\n",
       "    </tr>\n",
       "  </thead>\n",
       "  <tbody>\n",
       "    <tr>\n",
       "      <th>0</th>\n",
       "      <td>13999.994558</td>\n",
       "      <td>2.026157e-15</td>\n",
       "    </tr>\n",
       "    <tr>\n",
       "      <th>1</th>\n",
       "      <td>14000.024558</td>\n",
       "      <td>1.795465e-15</td>\n",
       "    </tr>\n",
       "    <tr>\n",
       "      <th>2</th>\n",
       "      <td>14000.054558</td>\n",
       "      <td>1.657147e-15</td>\n",
       "    </tr>\n",
       "    <tr>\n",
       "      <th>3</th>\n",
       "      <td>14000.084558</td>\n",
       "      <td>1.327971e-15</td>\n",
       "    </tr>\n",
       "    <tr>\n",
       "      <th>4</th>\n",
       "      <td>14000.114558</td>\n",
       "      <td>1.034897e-15</td>\n",
       "    </tr>\n",
       "  </tbody>\n",
       "</table>\n",
       "</div>"
      ],
      "text/plain": [
       "            wls         trans\n",
       "0  13999.994558  2.026157e-15\n",
       "1  14000.024558  1.795465e-15\n",
       "2  14000.054558  1.657147e-15\n",
       "3  14000.084558  1.327971e-15\n",
       "4  14000.114558  1.034897e-15"
      ]
     },
     "execution_count": 8,
     "metadata": {},
     "output_type": "execute_result"
    }
   ],
   "source": [
    "tell['wls'] = tell['wls'] * 10.0 #convert to angstroms\n",
    "tell.head()"
   ]
  },
  {
   "cell_type": "markdown",
   "metadata": {},
   "source": [
    "## Identify interesting lines"
   ]
  },
  {
   "cell_type": "markdown",
   "metadata": {},
   "source": [
    "Interesting lines:\n",
    "\n",
    "Line|Wavelength\n",
    "-|-\n",
    "Pa$\\alpha$|1.87569\n",
    "Br$\\gamma$|2.16612\n",
    "CO $\\nu =2-0$|2.29353\n",
    "CO $\\nu =3-1$|2.32265\n",
    "Na$~$I|2.20624"
   ]
  },
  {
   "cell_type": "markdown",
   "metadata": {},
   "source": [
    "## Meta"
   ]
  },
  {
   "cell_type": "code",
   "execution_count": 9,
   "metadata": {
    "collapsed": true
   },
   "outputs": [],
   "source": [
    "K_orders, H_orders = pd.DataFrame(), pd.DataFrame()"
   ]
  },
  {
   "cell_type": "code",
   "execution_count": 10,
   "metadata": {
    "collapsed": false
   },
   "outputs": [],
   "source": [
    "K_orders['wl_start']=[np.floor(min(wl)) for wl in K['wls']]\n",
    "K_orders['wl_end']=[np.floor(max(wl)) for wl in K['wls']]\n",
    "K_orders['band']='K'\n",
    "H_orders['wl_start']=[np.floor(min(wl)) for wl in H['wls']]\n",
    "H_orders['wl_end']=[np.floor(max(wl)) for wl in H['wls']]\n",
    "H_orders['band']='H'"
   ]
  },
  {
   "cell_type": "code",
   "execution_count": 11,
   "metadata": {
    "collapsed": false
   },
   "outputs": [
    {
     "data": {
      "text/html": [
       "<div>\n",
       "<table border=\"1\" class=\"dataframe\">\n",
       "  <thead>\n",
       "    <tr style=\"text-align: right;\">\n",
       "      <th></th>\n",
       "      <th>wl_start</th>\n",
       "      <th>wl_end</th>\n",
       "      <th>band</th>\n",
       "    </tr>\n",
       "  </thead>\n",
       "  <tbody>\n",
       "    <tr>\n",
       "      <th>0</th>\n",
       "      <td>18092</td>\n",
       "      <td>18346</td>\n",
       "      <td>H</td>\n",
       "    </tr>\n",
       "    <tr>\n",
       "      <th>1</th>\n",
       "      <td>17914</td>\n",
       "      <td>18165</td>\n",
       "      <td>H</td>\n",
       "    </tr>\n",
       "    <tr>\n",
       "      <th>2</th>\n",
       "      <td>17739</td>\n",
       "      <td>17988</td>\n",
       "      <td>H</td>\n",
       "    </tr>\n",
       "    <tr>\n",
       "      <th>3</th>\n",
       "      <td>17568</td>\n",
       "      <td>17815</td>\n",
       "      <td>H</td>\n",
       "    </tr>\n",
       "    <tr>\n",
       "      <th>4</th>\n",
       "      <td>17400</td>\n",
       "      <td>17645</td>\n",
       "      <td>H</td>\n",
       "    </tr>\n",
       "    <tr>\n",
       "      <th>5</th>\n",
       "      <td>17236</td>\n",
       "      <td>17478</td>\n",
       "      <td>H</td>\n",
       "    </tr>\n",
       "    <tr>\n",
       "      <th>6</th>\n",
       "      <td>17075</td>\n",
       "      <td>17315</td>\n",
       "      <td>H</td>\n",
       "    </tr>\n",
       "    <tr>\n",
       "      <th>7</th>\n",
       "      <td>16917</td>\n",
       "      <td>17155</td>\n",
       "      <td>H</td>\n",
       "    </tr>\n",
       "    <tr>\n",
       "      <th>8</th>\n",
       "      <td>16762</td>\n",
       "      <td>16997</td>\n",
       "      <td>H</td>\n",
       "    </tr>\n",
       "    <tr>\n",
       "      <th>9</th>\n",
       "      <td>16610</td>\n",
       "      <td>16843</td>\n",
       "      <td>H</td>\n",
       "    </tr>\n",
       "    <tr>\n",
       "      <th>10</th>\n",
       "      <td>16461</td>\n",
       "      <td>16692</td>\n",
       "      <td>H</td>\n",
       "    </tr>\n",
       "    <tr>\n",
       "      <th>11</th>\n",
       "      <td>16314</td>\n",
       "      <td>16543</td>\n",
       "      <td>H</td>\n",
       "    </tr>\n",
       "    <tr>\n",
       "      <th>12</th>\n",
       "      <td>16171</td>\n",
       "      <td>16398</td>\n",
       "      <td>H</td>\n",
       "    </tr>\n",
       "    <tr>\n",
       "      <th>13</th>\n",
       "      <td>16030</td>\n",
       "      <td>16255</td>\n",
       "      <td>H</td>\n",
       "    </tr>\n",
       "    <tr>\n",
       "      <th>14</th>\n",
       "      <td>15891</td>\n",
       "      <td>16114</td>\n",
       "      <td>H</td>\n",
       "    </tr>\n",
       "    <tr>\n",
       "      <th>15</th>\n",
       "      <td>15755</td>\n",
       "      <td>15976</td>\n",
       "      <td>H</td>\n",
       "    </tr>\n",
       "    <tr>\n",
       "      <th>16</th>\n",
       "      <td>15622</td>\n",
       "      <td>15841</td>\n",
       "      <td>H</td>\n",
       "    </tr>\n",
       "    <tr>\n",
       "      <th>17</th>\n",
       "      <td>15490</td>\n",
       "      <td>15707</td>\n",
       "      <td>H</td>\n",
       "    </tr>\n",
       "    <tr>\n",
       "      <th>18</th>\n",
       "      <td>15362</td>\n",
       "      <td>15577</td>\n",
       "      <td>H</td>\n",
       "    </tr>\n",
       "    <tr>\n",
       "      <th>19</th>\n",
       "      <td>15235</td>\n",
       "      <td>15448</td>\n",
       "      <td>H</td>\n",
       "    </tr>\n",
       "    <tr>\n",
       "      <th>20</th>\n",
       "      <td>15111</td>\n",
       "      <td>15322</td>\n",
       "      <td>H</td>\n",
       "    </tr>\n",
       "    <tr>\n",
       "      <th>21</th>\n",
       "      <td>14988</td>\n",
       "      <td>15198</td>\n",
       "      <td>H</td>\n",
       "    </tr>\n",
       "    <tr>\n",
       "      <th>22</th>\n",
       "      <td>14868</td>\n",
       "      <td>15076</td>\n",
       "      <td>H</td>\n",
       "    </tr>\n",
       "    <tr>\n",
       "      <th>23</th>\n",
       "      <td>14750</td>\n",
       "      <td>14956</td>\n",
       "      <td>H</td>\n",
       "    </tr>\n",
       "    <tr>\n",
       "      <th>24</th>\n",
       "      <td>14634</td>\n",
       "      <td>14838</td>\n",
       "      <td>H</td>\n",
       "    </tr>\n",
       "    <tr>\n",
       "      <th>25</th>\n",
       "      <td>14520</td>\n",
       "      <td>14721</td>\n",
       "      <td>H</td>\n",
       "    </tr>\n",
       "    <tr>\n",
       "      <th>26</th>\n",
       "      <td>14407</td>\n",
       "      <td>14607</td>\n",
       "      <td>H</td>\n",
       "    </tr>\n",
       "    <tr>\n",
       "      <th>27</th>\n",
       "      <td>14297</td>\n",
       "      <td>14495</td>\n",
       "      <td>H</td>\n",
       "    </tr>\n",
       "    <tr>\n",
       "      <th>0</th>\n",
       "      <td>24844</td>\n",
       "      <td>25185</td>\n",
       "      <td>K</td>\n",
       "    </tr>\n",
       "    <tr>\n",
       "      <th>1</th>\n",
       "      <td>24503</td>\n",
       "      <td>24841</td>\n",
       "      <td>K</td>\n",
       "    </tr>\n",
       "    <tr>\n",
       "      <th>2</th>\n",
       "      <td>24172</td>\n",
       "      <td>24505</td>\n",
       "      <td>K</td>\n",
       "    </tr>\n",
       "    <tr>\n",
       "      <th>3</th>\n",
       "      <td>23849</td>\n",
       "      <td>24179</td>\n",
       "      <td>K</td>\n",
       "    </tr>\n",
       "    <tr>\n",
       "      <th>4</th>\n",
       "      <td>23536</td>\n",
       "      <td>23861</td>\n",
       "      <td>K</td>\n",
       "    </tr>\n",
       "    <tr>\n",
       "      <th>5</th>\n",
       "      <td>23230</td>\n",
       "      <td>23552</td>\n",
       "      <td>K</td>\n",
       "    </tr>\n",
       "    <tr>\n",
       "      <th>6</th>\n",
       "      <td>22933</td>\n",
       "      <td>23251</td>\n",
       "      <td>K</td>\n",
       "    </tr>\n",
       "    <tr>\n",
       "      <th>7</th>\n",
       "      <td>22643</td>\n",
       "      <td>22958</td>\n",
       "      <td>K</td>\n",
       "    </tr>\n",
       "    <tr>\n",
       "      <th>8</th>\n",
       "      <td>22361</td>\n",
       "      <td>22672</td>\n",
       "      <td>K</td>\n",
       "    </tr>\n",
       "    <tr>\n",
       "      <th>9</th>\n",
       "      <td>22085</td>\n",
       "      <td>22393</td>\n",
       "      <td>K</td>\n",
       "    </tr>\n",
       "    <tr>\n",
       "      <th>10</th>\n",
       "      <td>21817</td>\n",
       "      <td>22121</td>\n",
       "      <td>K</td>\n",
       "    </tr>\n",
       "    <tr>\n",
       "      <th>11</th>\n",
       "      <td>21555</td>\n",
       "      <td>21856</td>\n",
       "      <td>K</td>\n",
       "    </tr>\n",
       "    <tr>\n",
       "      <th>12</th>\n",
       "      <td>21300</td>\n",
       "      <td>21597</td>\n",
       "      <td>K</td>\n",
       "    </tr>\n",
       "    <tr>\n",
       "      <th>13</th>\n",
       "      <td>21051</td>\n",
       "      <td>21345</td>\n",
       "      <td>K</td>\n",
       "    </tr>\n",
       "    <tr>\n",
       "      <th>14</th>\n",
       "      <td>20808</td>\n",
       "      <td>21098</td>\n",
       "      <td>K</td>\n",
       "    </tr>\n",
       "    <tr>\n",
       "      <th>15</th>\n",
       "      <td>20570</td>\n",
       "      <td>20857</td>\n",
       "      <td>K</td>\n",
       "    </tr>\n",
       "    <tr>\n",
       "      <th>16</th>\n",
       "      <td>20339</td>\n",
       "      <td>20622</td>\n",
       "      <td>K</td>\n",
       "    </tr>\n",
       "    <tr>\n",
       "      <th>17</th>\n",
       "      <td>20112</td>\n",
       "      <td>20393</td>\n",
       "      <td>K</td>\n",
       "    </tr>\n",
       "    <tr>\n",
       "      <th>18</th>\n",
       "      <td>19891</td>\n",
       "      <td>20168</td>\n",
       "      <td>K</td>\n",
       "    </tr>\n",
       "    <tr>\n",
       "      <th>19</th>\n",
       "      <td>19675</td>\n",
       "      <td>19949</td>\n",
       "      <td>K</td>\n",
       "    </tr>\n",
       "    <tr>\n",
       "      <th>20</th>\n",
       "      <td>19464</td>\n",
       "      <td>19734</td>\n",
       "      <td>K</td>\n",
       "    </tr>\n",
       "    <tr>\n",
       "      <th>21</th>\n",
       "      <td>19257</td>\n",
       "      <td>19524</td>\n",
       "      <td>K</td>\n",
       "    </tr>\n",
       "    <tr>\n",
       "      <th>22</th>\n",
       "      <td>19055</td>\n",
       "      <td>19319</td>\n",
       "      <td>K</td>\n",
       "    </tr>\n",
       "    <tr>\n",
       "      <th>23</th>\n",
       "      <td>18858</td>\n",
       "      <td>19118</td>\n",
       "      <td>K</td>\n",
       "    </tr>\n",
       "    <tr>\n",
       "      <th>24</th>\n",
       "      <td>18665</td>\n",
       "      <td>18922</td>\n",
       "      <td>K</td>\n",
       "    </tr>\n",
       "  </tbody>\n",
       "</table>\n",
       "</div>"
      ],
      "text/plain": [
       "    wl_start  wl_end band\n",
       "0      18092   18346    H\n",
       "1      17914   18165    H\n",
       "2      17739   17988    H\n",
       "3      17568   17815    H\n",
       "4      17400   17645    H\n",
       "5      17236   17478    H\n",
       "6      17075   17315    H\n",
       "7      16917   17155    H\n",
       "8      16762   16997    H\n",
       "9      16610   16843    H\n",
       "10     16461   16692    H\n",
       "11     16314   16543    H\n",
       "12     16171   16398    H\n",
       "13     16030   16255    H\n",
       "14     15891   16114    H\n",
       "15     15755   15976    H\n",
       "16     15622   15841    H\n",
       "17     15490   15707    H\n",
       "18     15362   15577    H\n",
       "19     15235   15448    H\n",
       "20     15111   15322    H\n",
       "21     14988   15198    H\n",
       "22     14868   15076    H\n",
       "23     14750   14956    H\n",
       "24     14634   14838    H\n",
       "25     14520   14721    H\n",
       "26     14407   14607    H\n",
       "27     14297   14495    H\n",
       "0      24844   25185    K\n",
       "1      24503   24841    K\n",
       "2      24172   24505    K\n",
       "3      23849   24179    K\n",
       "4      23536   23861    K\n",
       "5      23230   23552    K\n",
       "6      22933   23251    K\n",
       "7      22643   22958    K\n",
       "8      22361   22672    K\n",
       "9      22085   22393    K\n",
       "10     21817   22121    K\n",
       "11     21555   21856    K\n",
       "12     21300   21597    K\n",
       "13     21051   21345    K\n",
       "14     20808   21098    K\n",
       "15     20570   20857    K\n",
       "16     20339   20622    K\n",
       "17     20112   20393    K\n",
       "18     19891   20168    K\n",
       "19     19675   19949    K\n",
       "20     19464   19734    K\n",
       "21     19257   19524    K\n",
       "22     19055   19319    K\n",
       "23     18858   19118    K\n",
       "24     18665   18922    K"
      ]
     },
     "execution_count": 11,
     "metadata": {},
     "output_type": "execute_result"
    }
   ],
   "source": [
    "orders = H_orders.append(K_orders)\n",
    "orders"
   ]
  },
  {
   "cell_type": "markdown",
   "metadata": {},
   "source": [
    "## Plot the favorite lines"
   ]
  },
  {
   "cell_type": "code",
   "execution_count": 12,
   "metadata": {
    "collapsed": true
   },
   "outputs": [],
   "source": [
    "sns.set_context('paper', font_scale=1.4)\n",
    "sns.set_style('ticks')"
   ]
  },
  {
   "cell_type": "markdown",
   "metadata": {},
   "source": [
    "## Br$\\gamma$"
   ]
  },
  {
   "cell_type": "code",
   "execution_count": 13,
   "metadata": {
    "collapsed": false
   },
   "outputs": [],
   "source": [
    "line = 21661.2\n",
    "this_order = (orders.wl_start < line) & (orders.wl_end > line)\n",
    "m = orders.index[this_order].values"
   ]
  },
  {
   "cell_type": "code",
   "execution_count": 14,
   "metadata": {
    "collapsed": false
   },
   "outputs": [
    {
     "name": "stdout",
     "output_type": "stream",
     "text": [
      "[11]\n"
     ]
    }
   ],
   "source": [
    "print(m)"
   ]
  },
  {
   "cell_type": "code",
   "execution_count": 15,
   "metadata": {
    "collapsed": false
   },
   "outputs": [],
   "source": [
    "m = 11\n",
    "wl = K['wls'][m,:]\n",
    "fl = K['fls'][m,:]"
   ]
  },
  {
   "cell_type": "markdown",
   "metadata": {},
   "source": [
    "Feature indices"
   ]
  },
  {
   "cell_type": "code",
   "execution_count": 16,
   "metadata": {
    "collapsed": true
   },
   "outputs": [],
   "source": [
    "dw = 50\n",
    "gi = (wl > (line - dw)) & (wl < (line + dw))"
   ]
  },
  {
   "cell_type": "markdown",
   "metadata": {},
   "source": [
    "Continuum indices"
   ]
  },
  {
   "cell_type": "code",
   "execution_count": 17,
   "metadata": {
    "collapsed": true
   },
   "outputs": [],
   "source": [
    "N = len(wl)"
   ]
  },
  {
   "cell_type": "code",
   "execution_count": 25,
   "metadata": {
    "collapsed": false
   },
   "outputs": [
    {
     "name": "stdout",
     "output_type": "stream",
     "text": [
      "The relative uncertainty per pixel is 0.055%\n"
     ]
    }
   ],
   "source": [
    "cib = (wl > 21600) & (wl < 21625)\n",
    "cir = (wl > 21700) & (wl < 21750)\n",
    "ci = cib | cir\n",
    "cont_level = np.nanmedian(fl[ci])\n",
    "cont = np.ones(N)*cont_level\n",
    "sig_cont = np.nanstd(fl[ci])/cont_level\n",
    "print('The relative uncertainty per pixel is {:.2}%'.format(sig_cont))"
   ]
  },
  {
   "cell_type": "markdown",
   "metadata": {},
   "source": [
    "## Calculate the 10% width"
   ]
  },
  {
   "cell_type": "code",
   "execution_count": 26,
   "metadata": {
    "collapsed": true
   },
   "outputs": [],
   "source": [
    "this_wl, this_fl = wl[gi], fl[gi]/cont_level\n",
    "peak = np.nanmax(this_fl)\n",
    "tph = (peak-1.0)*0.1\n",
    "#tpw_r = (this_wl < line) & (this_fl <1)\n"
   ]
  },
  {
   "cell_type": "code",
   "execution_count": 39,
   "metadata": {
    "collapsed": false
   },
   "outputs": [
    {
     "data": {
      "image/png": "[encoded data removed]",
      "text/plain": [
       "<matplotlib.figure.Figure at 0x1160adac8>"
      ]
     },
     "metadata": {
      "image/png": {
       "height": 340,
       "width": 338
      }
     },
     "output_type": "display_data"
    }
   ],
   "source": [
    "plt.figure(figsize=(5, 5))\n",
    "\n",
    "plt.step(this_wl, this_fl, 'k')\n",
    "plt.plot(this_wl,cont[gi]/cont_level, 'r--' )\n",
    "plt.plot([min(this_wl), max(this_wl)],[1+tph, 1+tph], 'g:' )\n",
    "#plt.plot(tell.wls, tell.trans*2.5, 'k-', alpha=0.2)\n",
    "plt.fill_between(tell.wls, tell.trans*2.5, y2=2.5, alpha=0.2)\n",
    "plt.plot([line, line],[0, 3], 'b-.' )\n",
    "plt.ylim(0, 2.5)\n",
    "plt.xlim(min(this_wl), max(this_wl))\n",
    "plt.xlabel('$\\lambda$ ($\\AA$)')\n",
    "plt.ylabel('$f_\\lambda$ (continuum $\\equiv$ 1)')\n",
    "plt.gca().get_xaxis().get_major_formatter().set_useOffset(False);"
   ]
  },
  {
   "cell_type": "code",
   "execution_count": null,
   "metadata": {
    "collapsed": true
   },
   "outputs": [],
   "source": []
  }
 ],
 "metadata": {
  "kernelspec": {
   "display_name": "Python 3",
   "language": "python",
   "name": "python3"
  },
  "language_info": {
   "codemirror_mode": {
    "name": "ipython",
    "version": 3
   },
   "file_extension": ".py",
   "mimetype": "text/x-python",
   "name": "python",
   "nbconvert_exporter": "python",
   "pygments_lexer": "ipython3",
   "version": "3.4.3"
  }
 },
 "nbformat": 4,
 "nbformat_minor": 0
}
